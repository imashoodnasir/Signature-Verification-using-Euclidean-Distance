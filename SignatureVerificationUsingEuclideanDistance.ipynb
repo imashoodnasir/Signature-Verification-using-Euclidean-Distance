{
  "nbformat": 4,
  "nbformat_minor": 0,
  "metadata": {
    "colab": {
      "provenance": [],
      "authorship_tag": "ABX9TyOpngkzrK+z8RDo19E00tjw",
      "include_colab_link": true
    },
    "kernelspec": {
      "name": "python3",
      "display_name": "Python 3"
    },
    "language_info": {
      "name": "python"
    },
    "gpuClass": "standard",
    "accelerator": "GPU"
  },
  "cells": [
    {
      "cell_type": "markdown",
      "metadata": {
        "id": "view-in-github",
        "colab_type": "text"
      },
      "source": [
        "<a href=\"https://colab.research.google.com/github/imashoodnasir/Signature-Verification-using-Euclidean-Distance/blob/main/SignatureVerificationUsingEuclideanDistance.ipynb\" target=\"_parent\"><img src=\"https://colab.research.google.com/assets/colab-badge.svg\" alt=\"Open In Colab\"/></a>"
      ]
    },
    {
      "cell_type": "code",
      "execution_count": 1,
      "metadata": {
        "id": "ZR-wsJRY5Mg6"
      },
      "outputs": [],
      "source": [
        "import os\n",
        "import pandas as pd\n",
        "import numpy as np\n",
        "from PIL import Image\n",
        "import cv2\n",
        "import matplotlib.pyplot as plt\n",
        "import tensorflow as tf\n",
        "from keras.models import Model\n",
        "from tensorflow.keras.optimizers import Adam\n",
        "from tensorflow.keras.applications.inception_v3 import InceptionV3\n",
        "from keras.applications.vgg16 import VGG16, preprocess_input\n",
        "from keras.preprocessing.image import ImageDataGenerator\n",
        "from keras.callbacks import ModelCheckpoint, EarlyStopping, TensorBoard\n",
        "from keras.layers import Dense, Dropout, Flatten\n",
        "from tensorflow.keras.layers import Lambda\n",
        "import tensorflow.keras.backend as K\n",
        "from tensorflow.keras import Input\n",
        "from tensorflow.keras.utils import Sequence\n",
        "from pathlib import Path\n",
        "import tensorflow as tf\n",
        "from keras.callbacks import ModelCheckpoint, TensorBoard\n",
        "from keras.layers import Dense, Dropout, Input, Lambda, Flatten, Convolution2D, MaxPooling2D, ZeroPadding2D\n",
        "from keras.preprocessing import image\n",
        "from keras import backend as K\n",
        "import sys\n",
        "from keras.models import Sequential, Model\n",
        "from tensorflow.keras.optimizers import SGD, RMSprop, Adadelta\n",
        "from tensorflow.keras.layers import BatchNormalization\n",
        "from keras.regularizers import l2\n",
        "import random"
      ]
    },
    {
      "cell_type": "code",
      "source": [
        "# Configure kaggle\n",
        "os.chdir('/root/')\n",
        "!mkdir -p .kaggle\n",
        "os.chdir('/root/.kaggle')\n",
        "!wget --no-check-certificate 'https://docs.google.com/uc?export=download&id=1Y-o0TVcjehM8SZB3Nt8U3xkyeQu-Nse-' -O kaggle.json > /dev/null 2>&1\n",
        "!ls /root/.kaggle\n",
        "\n",
        "# Set permissions \n",
        "!chmod 600 /root/.kaggle/kaggle.json\n",
        "\n",
        "# Create data folder\n",
        "os.chdir('/content/')"
      ],
      "metadata": {
        "colab": {
          "base_uri": "https://localhost:8080/"
        },
        "id": "amt0v-EDKlhk",
        "outputId": "d11ba9a0-ebad-436a-bdac-77ec85d5ed1c"
      },
      "execution_count": 2,
      "outputs": [
        {
          "output_type": "stream",
          "name": "stdout",
          "text": [
            "kaggle.json\n"
          ]
        }
      ]
    },
    {
      "cell_type": "code",
      "source": [
        "# Download data\n",
        "!pip install -q kaggle\n",
        "!kaggle datasets download -d robinreni/signature-verification-dataset"
      ],
      "metadata": {
        "id": "3AMRhGFHKwAz",
        "colab": {
          "base_uri": "https://localhost:8080/"
        },
        "outputId": "f89a0da4-8503-4c1d-ebb6-727e39865a38"
      },
      "execution_count": 3,
      "outputs": [
        {
          "output_type": "stream",
          "name": "stdout",
          "text": [
            "Downloading signature-verification-dataset.zip to /content\n",
            "100% 601M/601M [00:19<00:00, 38.3MB/s]\n",
            "100% 601M/601M [00:19<00:00, 32.1MB/s]\n"
          ]
        }
      ]
    },
    {
      "cell_type": "code",
      "source": [
        "!unzip '/content/signature-verification-dataset.zip' -d '/content/dataset/'"
      ],
      "metadata": {
        "id": "dIGpQmPEKySM"
      },
      "execution_count": null,
      "outputs": []
    },
    {
      "cell_type": "code",
      "source": [
        "train_df = pd.read_csv(\"/content/dataset/sign_data/train_data.csv\")\n",
        "test_df = pd.read_csv(\"/content/dataset/sign_data/test_data.csv\")"
      ],
      "metadata": {
        "id": "6tlNuqrdK53s"
      },
      "execution_count": 5,
      "outputs": []
    },
    {
      "cell_type": "code",
      "source": [
        "train_df.columns =[\"img1\",\"img2\",\"similar\"]\n",
        "test_df.columns =[\"img1\",\"img2\",\"similar\"]"
      ],
      "metadata": {
        "id": "9K0E3OieLDf0"
      },
      "execution_count": 6,
      "outputs": []
    },
    {
      "cell_type": "code",
      "source": [
        "train_df[\"img1\"]"
      ],
      "metadata": {
        "colab": {
          "base_uri": "https://localhost:8080/"
        },
        "id": "ONQS7NCyLQsb",
        "outputId": "1f1e7b2d-028b-47b7-b2dc-bd8b329404f1"
      },
      "execution_count": 7,
      "outputs": [
        {
          "output_type": "execute_result",
          "data": {
            "text/plain": [
              "0        068/09_068.png\n",
              "1        068/09_068.png\n",
              "2        068/09_068.png\n",
              "3        068/09_068.png\n",
              "4        068/09_068.png\n",
              "              ...      \n",
              "23200    031/02_031.png\n",
              "23201    031/02_031.png\n",
              "23202    031/02_031.png\n",
              "23203    031/02_031.png\n",
              "23204    031/02_031.png\n",
              "Name: img1, Length: 23205, dtype: object"
            ]
          },
          "metadata": {},
          "execution_count": 7
        }
      ]
    },
    {
      "cell_type": "code",
      "source": [
        "train_path = \"/content/dataset/sign_data/train\"\n",
        "test_path = \"/content/dataset/sign_data/test\""
      ],
      "metadata": {
        "id": "nK9cro_lLpmr"
      },
      "execution_count": 9,
      "outputs": []
    },
    {
      "cell_type": "code",
      "source": [
        "from skimage.io import imread, imshow\n",
        "from skimage.transform import resize\n",
        "\n",
        "imgr = imread(os.path.join(train_path,train_df[\"img1\"][0]))\n",
        "imgr=resize(imgr,(224,224,3))\n",
        "plt.imshow(imgr)"
      ],
      "metadata": {
        "colab": {
          "base_uri": "https://localhost:8080/",
          "height": 287
        },
        "id": "f9ZcXRgHLul6",
        "outputId": "bff70002-2045-4335-bcf7-69a38dcf49cc"
      },
      "execution_count": 10,
      "outputs": [
        {
          "output_type": "execute_result",
          "data": {
            "text/plain": [
              "<matplotlib.image.AxesImage at 0x7f4f57195820>"
            ]
          },
          "metadata": {},
          "execution_count": 10
        },
        {
          "output_type": "display_data",
          "data": {
            "text/plain": [
              "<Figure size 432x288 with 1 Axes>"
            ],
            "image/png": "[encoded data removed]"
          },
          "metadata": {
            "needs_background": "light"
          }
        }
      ]
    },
    {
      "cell_type": "code",
      "source": [
        "from skimage.io import imread\n",
        "from skimage.transform import resize\n",
        "import numpy as np\n",
        "import math\n",
        "\n",
        "# Here, `x_set` is list of path to the images\n",
        "# and `y_set` are the associated classes.\n",
        "\n",
        "class TrainDataSequence(tf.keras.utils.Sequence):\n",
        "\n",
        "    def __init__(self, x_set1, x_set2, y_set, batch_size):\n",
        "        self.x1, self.x2, self.y = x_set1, x_set2, y_set\n",
        "        self.batch_size = batch_size\n",
        "        self.train_path = train_path\n",
        "\n",
        "\n",
        "    def __len__(self):\n",
        "        return math.ceil(len(self.x1) / self.batch_size)\n",
        "\n",
        "    def __getitem__(self, idx):\n",
        "        batch_x1 = self.x1[idx * self.batch_size:(idx + 1) *\n",
        "        self.batch_size]\n",
        "        batch_x2 = self.x2[idx * self.batch_size:(idx + 1) *\n",
        "        self.batch_size]\n",
        "        batch_y = self.y[idx * self.batch_size:(idx + 1) *\n",
        "        self.batch_size]\n",
        "        X1 = []\n",
        "        X2 = []\n",
        "        for file_name1, file_name2 in zip(batch_x1, batch_x2):\n",
        "                  f1 = resize(imread(os.path.join(self.train_path,file_name1)), (224, 224,3))\n",
        "                  f2 = resize(imread(os.path.join(self.train_path,file_name2)), (224, 224,3))\n",
        "                  X1.append(f1)\n",
        "                  X2.append(f2)\n",
        "        # print(np.array(X).shape)\n",
        "        return [np.array(X1), np.array(X2)], np.array(batch_y)"
      ],
      "metadata": {
        "id": "-wMXDKbXLxcs"
      },
      "execution_count": 11,
      "outputs": []
    },
    {
      "cell_type": "code",
      "source": [
        "class TestDataSequence(tf.keras.utils.Sequence):\n",
        "\n",
        "    def __init__(self, x_set1, x_set2, y_set, batch_size):\n",
        "        self.x1, self.x2, self.y = x_set1, x_set2, y_set\n",
        "        self.batch_size = batch_size\n",
        "        self.test_path = test_path\n",
        "\n",
        "\n",
        "\n",
        "    def __len__(self):\n",
        "        return math.ceil(len(self.x1) / self.batch_size)\n",
        "\n",
        "    def __getitem__(self, idx):\n",
        "        batch_x1 = self.x1[idx * self.batch_size:(idx + 1) *\n",
        "        self.batch_size]\n",
        "        batch_x2 = self.x2[idx * self.batch_size:(idx + 1) *\n",
        "        self.batch_size]\n",
        "        batch_y = self.y[idx * self.batch_size:(idx + 1) *\n",
        "        self.batch_size]\n",
        "        X1 = []\n",
        "        X2 = []\n",
        "        for file_name1, file_name2 in zip(batch_x1, batch_x2):\n",
        "                  f1 = resize(imread(os.path.join(self.test_path,file_name1)), (224, 224,3))\n",
        "                  f2 = resize(imread(os.path.join(self.test_path,file_name2)), (224, 224,3))\n",
        "                  X1.append(f1)\n",
        "                  X2.append(f2)\n",
        "        # print(np.array(X).shape)\n",
        "        return [np.array(X1), np.array(X2)], np.array(batch_y)"
      ],
      "metadata": {
        "id": "gigguiW2Ngsi"
      },
      "execution_count": 12,
      "outputs": []
    },
    {
      "cell_type": "code",
      "source": [
        "def euclidean_distance(vectors):\n",
        "    # unpack the vectors into separate lists\n",
        "    (featsA, featsB) = vectors\n",
        "    # compute the sum of squared distances between the vectors\n",
        "    sumSquared = K.sum(K.square(featsA - featsB), axis=1,keepdims=True)\n",
        "    # return the euclidean distance between the vectors\n",
        "    return K.sqrt(K.maximum(sumSquared, K.epsilon()))"
      ],
      "metadata": {
        "id": "3iw6Jt1RNieK"
      },
      "execution_count": 13,
      "outputs": []
    },
    {
      "cell_type": "code",
      "source": [
        "def contrastive_loss(y, preds, margin=1):\n",
        "    # explicitly cast the true class label data type to the predicted\n",
        "    # class label data type (otherwise we run the risk of having two\n",
        "    # separate data types, causing TensorFlow to error out)\n",
        "    y = tf.cast(y, preds.dtype)\n",
        "    # calculate the contrastive loss between the true labels and\n",
        "    # the predicted labels\n",
        "    squaredPreds = K.square(preds)\n",
        "    squaredMargin = K.square(K.maximum(margin - preds, 0))\n",
        "    loss = K.mean(y * squaredPreds + (1 - y) * squaredMargin)\n",
        "    # return the computed contrastive loss to the calling function\n",
        "    return loss"
      ],
      "metadata": {
        "id": "yc5lxbP4Nklm"
      },
      "execution_count": 14,
      "outputs": []
    },
    {
      "cell_type": "code",
      "source": [
        "def extractor_model(input_shape):\n",
        "\n",
        "    vgg_16 = VGG16(include_top=False, weights='imagenet', input_shape=input_shape)\n",
        "#     vgg_16 = InceptionV3(include_top=False, weights='imagenet', input_shape=input_shape)\n",
        "    vgg_16.trainable = False\n",
        "    x = vgg_16.output\n",
        "    x = Flatten(name=\"flatten\")(x)\n",
        "    # x = Dense(512, activation='relu')(x)\n",
        "    # x = Dropout(0.3)(x)\n",
        "    output_layer = Dense(128, activation='relu')(x)\n",
        "#     x = Dense(64, activation='relu')(x)\n",
        "\n",
        "    # output_layer = Dense(1, activation='sigmoid')(x)\n",
        "    model = Model(inputs=vgg_16.input, outputs=output_layer)\n",
        "\n",
        "    # model.compile(optimizer=optimizer, \n",
        "    #               loss='binary_crossentropy',\n",
        "    #               metrics=['accuracy'])\n",
        "    \n",
        "    return model"
      ],
      "metadata": {
        "id": "_1f9livRNlL6"
      },
      "execution_count": 15,
      "outputs": []
    },
    {
      "cell_type": "code",
      "source": [
        "def create_model(input_shape):\n",
        "  print(input_shape)\n",
        "  base_model = extractor_model(input_shape)\n",
        "  print(base_model.summary())\n",
        "  input_a = Input(shape=input_shape)\n",
        "  input_b = Input(shape=input_shape)\n",
        "  feat_1 = base_model(input_a)\n",
        "  feat_2 = base_model(input_b)\n",
        "  distance = Lambda(euclidean_distance)([feat_1, feat_2])\n",
        "  outputs = Dense(1, activation=\"sigmoid\")(distance)\n",
        "\n",
        "  model = Model([input_a, input_b], outputs=outputs)\n",
        "  return model"
      ],
      "metadata": {
        "id": "jUkJ1iQ0NneC"
      },
      "execution_count": 16,
      "outputs": []
    },
    {
      "cell_type": "code",
      "source": [
        "input_shape = (224, 224, 3)\n",
        "optimzer = Adam(learning_rate=0.001)\n",
        "# n_classes=2\n",
        "BATCH_SIZE = 32\n",
        "# n_steps = traingen.samples // BATCH_SIZE\n",
        "# n_val_steps = validgen.samples // BATCH_SIZE\n",
        "n_epochs = 50\n",
        "# i_img =cv2.imread(os.path.join(train_path,df[\"img1\"][0]))\n",
        "# i_img = cv2.resize(i_img,(224,224))\n",
        "# i_img = i_img[None,:]\n",
        "# print(i_img.shape)\n",
        "# First we'll train the model without Fine-tuning\n",
        "model = create_model(input_shape)\n",
        "print(model.summary())\n",
        "\n",
        "print(\"[INFO] compiling model...\")\n",
        "model.compile(loss=\"binary_crossentropy\", optimizer=optimzer, metrics=[\"accuracy\"])"
      ],
      "metadata": {
        "id": "PeAw6Tp9NqPS",
        "colab": {
          "base_uri": "https://localhost:8080/"
        },
        "outputId": "049a19f9-570c-42b9-cfd4-07d8bafc40e6"
      },
      "execution_count": 17,
      "outputs": [
        {
          "output_type": "stream",
          "name": "stdout",
          "text": [
            "(224, 224, 3)\n",
            "Downloading data from https://storage.googleapis.com/tensorflow/keras-applications/vgg16/vgg16_weights_tf_dim_ordering_tf_kernels_notop.h5\n",
            "58889256/58889256 [==============================] - 3s 0us/step\n",
            "Model: \"model\"\n",
            "_________________________________________________________________\n",
            " Layer (type)                Output Shape              Param #   \n",
            "=================================================================\n",
            " input_1 (InputLayer)        [(None, 224, 224, 3)]     0         \n",
            "                                                                 \n",
            " block1_conv1 (Conv2D)       (None, 224, 224, 64)      1792      \n",
            "                                                                 \n",
            " block1_conv2 (Conv2D)       (None, 224, 224, 64)      36928     \n",
            "                                                                 \n",
            " block1_pool (MaxPooling2D)  (None, 112, 112, 64)      0         \n",
            "                                                                 \n",
            " block2_conv1 (Conv2D)       (None, 112, 112, 128)     73856     \n",
            "                                                                 \n",
            " block2_conv2 (Conv2D)       (None, 112, 112, 128)     147584    \n",
            "                                                                 \n",
            " block2_pool (MaxPooling2D)  (None, 56, 56, 128)       0         \n",
            "                                                                 \n",
            " block3_conv1 (Conv2D)       (None, 56, 56, 256)       295168    \n",
            "                                                                 \n",
            " block3_conv2 (Conv2D)       (None, 56, 56, 256)       590080    \n",
            "                                                                 \n",
            " block3_conv3 (Conv2D)       (None, 56, 56, 256)       590080    \n",
            "                                                                 \n",
            " block3_pool (MaxPooling2D)  (None, 28, 28, 256)       0         \n",
            "                                                                 \n",
            " block4_conv1 (Conv2D)       (None, 28, 28, 512)       1180160   \n",
            "                                                                 \n",
            " block4_conv2 (Conv2D)       (None, 28, 28, 512)       2359808   \n",
            "                                                                 \n",
            " block4_conv3 (Conv2D)       (None, 28, 28, 512)       2359808   \n",
            "                                                                 \n",
            " block4_pool (MaxPooling2D)  (None, 14, 14, 512)       0         \n",
            "                                                                 \n",
            " block5_conv1 (Conv2D)       (None, 14, 14, 512)       2359808   \n",
            "                                                                 \n",
            " block5_conv2 (Conv2D)       (None, 14, 14, 512)       2359808   \n",
            "                                                                 \n",
            " block5_conv3 (Conv2D)       (None, 14, 14, 512)       2359808   \n",
            "                                                                 \n",
            " block5_pool (MaxPooling2D)  (None, 7, 7, 512)         0         \n",
            "                                                                 \n",
            " flatten (Flatten)           (None, 25088)             0         \n",
            "                                                                 \n",
            " dense (Dense)               (None, 128)               3211392   \n",
            "                                                                 \n",
            "=================================================================\n",
            "Total params: 17,926,080\n",
            "Trainable params: 3,211,392\n",
            "Non-trainable params: 14,714,688\n",
            "_________________________________________________________________\n",
            "None\n",
            "Model: \"model_1\"\n",
            "__________________________________________________________________________________________________\n",
            " Layer (type)                   Output Shape         Param #     Connected to                     \n",
            "==================================================================================================\n",
            " input_2 (InputLayer)           [(None, 224, 224, 3  0           []                               \n",
            "                                )]                                                                \n",
            "                                                                                                  \n",
            " input_3 (InputLayer)           [(None, 224, 224, 3  0           []                               \n",
            "                                )]                                                                \n",
            "                                                                                                  \n",
            " model (Functional)             (None, 128)          17926080    ['input_2[0][0]',                \n",
            "                                                                  'input_3[0][0]']                \n",
            "                                                                                                  \n",
            " lambda (Lambda)                (None, 1)            0           ['model[0][0]',                  \n",
            "                                                                  'model[1][0]']                  \n",
            "                                                                                                  \n",
            " dense_1 (Dense)                (None, 1)            2           ['lambda[0][0]']                 \n",
            "                                                                                                  \n",
            "==================================================================================================\n",
            "Total params: 17,926,082\n",
            "Trainable params: 3,211,394\n",
            "Non-trainable params: 14,714,688\n",
            "__________________________________________________________________________________________________\n",
            "None\n",
            "[INFO] compiling model...\n"
          ]
        }
      ]
    },
    {
      "cell_type": "code",
      "source": [
        "train_sequence =  TrainDataSequence(train_df['img1'], train_df['img2'], train_df[\"similar\"], batch_size = 32)\n",
        "test_sequence =  TestDataSequence(test_df['img1'], test_df['img2'], test_df[\"similar\"], batch_size = 32)"
      ],
      "metadata": {
        "id": "WmfgHrx5OAcC"
      },
      "execution_count": 18,
      "outputs": []
    },
    {
      "cell_type": "code",
      "source": [
        "history = model.fit(train_sequence,validation_data = test_sequence, epochs = 10, verbose=1)"
      ],
      "metadata": {
        "colab": {
          "base_uri": "https://localhost:8080/"
        },
        "id": "zXIf0vCgOOvx",
        "outputId": "c9973175-a546-423e-9a72-9983440ec648"
      },
      "execution_count": null,
      "outputs": [
        {
          "output_type": "stream",
          "name": "stdout",
          "text": [
            "Epoch 1/10\n",
            "302/726 [===========>..................] - ETA: 12:01 - loss: 1.7136 - accuracy: 0.4608"
          ]
        }
      ]
    },
    {
      "cell_type": "code",
      "source": [
        "model.save(\"/content/working/saved_model\")"
      ],
      "metadata": {
        "id": "4VHuXeYEYVwl"
      },
      "execution_count": null,
      "outputs": []
    },
    {
      "cell_type": "code",
      "source": [
        "model.save('signature_verification.h5')"
      ],
      "metadata": {
        "id": "TODElCBAYYL9"
      },
      "execution_count": null,
      "outputs": []
    },
    {
      "cell_type": "code",
      "source": [
        "import matplotlib.pyplot as plt\n",
        "\n",
        "acc = history.history['accuracy']\n",
        "val_acc = history.history['val_accuracy']\n",
        "loss = history.history['loss']\n",
        "val_loss = history.history['val_loss']\n",
        "\n",
        "\n",
        "epochs = range(1, len(acc) + 1)\n",
        "\n",
        "plt.plot(epochs, acc, 'b', label='Training acc')\n",
        "plt.plot(epochs, val_acc, 'y', label='Validation acc')\n",
        "plt.title('Training and validation accuracy')\n",
        "plt.legend()\n",
        "\n",
        "# plt.figure()\n",
        "plt.savefig(\"accuracy3.jpg\")\n",
        "# plt.plot(epochs, loss, 'b', label='Training loss')\n",
        "# plt.plot(epochs, val_loss, 'y', label='Validation loss')\n",
        "# plt.title('Training and validation loss')\n",
        "# plt.legend()\n",
        "\n",
        "plt.show()"
      ],
      "metadata": {
        "id": "gf22EkxEYZmj"
      },
      "execution_count": null,
      "outputs": []
    },
    {
      "cell_type": "code",
      "source": [
        "plt.plot(epochs, loss, 'b', label='Training loss')\n",
        "plt.plot(epochs, val_loss, 'y', label='Validation loss')\n",
        "plt.title('Training and validation loss')\n",
        "plt.legend()\n",
        "plt.savefig(\"loss.jpg\")\n",
        "\n",
        "plt.show()"
      ],
      "metadata": {
        "id": "0aNhC6xQYch1"
      },
      "execution_count": null,
      "outputs": []
    }
  ]
}